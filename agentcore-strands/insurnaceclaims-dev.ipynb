{
 "cells": [
  {
   "cell_type": "code",
   "execution_count": 1,
   "id": "df6197c8-a8c8-4018-b642-19a07121773c",
   "metadata": {
    "execution": {
     "iopub.execute_input": "2025-07-23T14:06:30.553071Z",
     "iopub.status.busy": "2025-07-23T14:06:30.552275Z",
     "iopub.status.idle": "2025-07-23T14:06:39.820529Z",
     "shell.execute_reply": "2025-07-23T14:06:39.819697Z",
     "shell.execute_reply.started": "2025-07-23T14:06:30.553041Z"
    },
    "scrolled": true
   },
   "outputs": [
    {
     "name": "stdout",
     "output_type": "stream",
     "text": [
      "Requirement already satisfied: strands-agents in /opt/conda/lib/python3.12/site-packages (1.0.0)\n",
      "Collecting strands-agents\n",
      "  Downloading strands_agents-1.0.1-py3-none-any.whl.metadata (12 kB)\n",
      "Requirement already satisfied: strands-agents-tools in /opt/conda/lib/python3.12/site-packages (0.2.1)\n",
      "Requirement already satisfied: mem0ai in /opt/conda/lib/python3.12/site-packages (0.1.114)\n",
      "Collecting opensearch-py\n",
      "  Using cached opensearch_py-3.0.0-py3-none-any.whl.metadata (7.2 kB)\n",
      "Requirement already satisfied: ddgs in /opt/conda/lib/python3.12/site-packages (9.3.1)\n",
      "Collecting ddgs\n",
      "  Downloading ddgs-9.4.1-py3-none-any.whl.metadata (17 kB)\n",
      "Collecting faiss-cpu\n",
      "  Using cached faiss_cpu-1.11.0.post1-cp312-cp312-manylinux_2_27_x86_64.manylinux_2_28_x86_64.whl.metadata (5.0 kB)\n",
      "Requirement already satisfied: boto3<2.0.0,>=1.26.0 in /opt/conda/lib/python3.12/site-packages (from strands-agents) (1.39.8)\n",
      "Requirement already satisfied: botocore<2.0.0,>=1.29.0 in /opt/conda/lib/python3.12/site-packages (from strands-agents) (1.39.8)\n",
      "Requirement already satisfied: docstring-parser<1.0,>=0.15 in /opt/conda/lib/python3.12/site-packages (from strands-agents) (0.16)\n",
      "Requirement already satisfied: mcp<2.0.0,>=1.8.0 in /opt/conda/lib/python3.12/site-packages (from strands-agents) (1.12.0)\n",
      "Requirement already satisfied: opentelemetry-api<2.0.0,>=1.30.0 in /opt/conda/lib/python3.12/site-packages (from strands-agents) (1.35.0)\n",
      "Requirement already satisfied: opentelemetry-instrumentation-threading<1.00b0,>=0.51b0 in /opt/conda/lib/python3.12/site-packages (from strands-agents) (0.56b0)\n",
      "Requirement already satisfied: opentelemetry-sdk<2.0.0,>=1.30.0 in /opt/conda/lib/python3.12/site-packages (from strands-agents) (1.35.0)\n",
      "Requirement already satisfied: pydantic<3.0.0,>=2.0.0 in /opt/conda/lib/python3.12/site-packages (from strands-agents) (2.11.4)\n",
      "Requirement already satisfied: typing-extensions<5.0.0,>=4.13.2 in /opt/conda/lib/python3.12/site-packages (from strands-agents) (4.13.2)\n",
      "Requirement already satisfied: watchdog<7.0.0,>=6.0.0 in /opt/conda/lib/python3.12/site-packages (from strands-agents) (6.0.0)\n",
      "Requirement already satisfied: jmespath<2.0.0,>=0.7.1 in /opt/conda/lib/python3.12/site-packages (from boto3<2.0.0,>=1.26.0->strands-agents) (1.0.1)\n",
      "Requirement already satisfied: s3transfer<0.14.0,>=0.13.0 in /opt/conda/lib/python3.12/site-packages (from boto3<2.0.0,>=1.26.0->strands-agents) (0.13.0)\n",
      "Requirement already satisfied: python-dateutil<3.0.0,>=2.1 in /opt/conda/lib/python3.12/site-packages (from botocore<2.0.0,>=1.29.0->strands-agents) (2.9.0.post0)\n",
      "Requirement already satisfied: urllib3!=2.2.0,<3,>=1.25.4 in /opt/conda/lib/python3.12/site-packages (from botocore<2.0.0,>=1.29.0->strands-agents) (1.26.19)\n",
      "Requirement already satisfied: anyio>=4.5 in /opt/conda/lib/python3.12/site-packages (from mcp<2.0.0,>=1.8.0->strands-agents) (4.9.0)\n",
      "Requirement already satisfied: httpx-sse>=0.4 in /opt/conda/lib/python3.12/site-packages (from mcp<2.0.0,>=1.8.0->strands-agents) (0.4.0)\n",
      "Requirement already satisfied: httpx>=0.27 in /opt/conda/lib/python3.12/site-packages (from mcp<2.0.0,>=1.8.0->strands-agents) (0.28.1)\n",
      "Requirement already satisfied: jsonschema>=4.20.0 in /opt/conda/lib/python3.12/site-packages (from mcp<2.0.0,>=1.8.0->strands-agents) (4.23.0)\n",
      "Requirement already satisfied: pydantic-settings>=2.5.2 in /opt/conda/lib/python3.12/site-packages (from mcp<2.0.0,>=1.8.0->strands-agents) (2.9.1)\n",
      "Requirement already satisfied: python-multipart>=0.0.9 in /opt/conda/lib/python3.12/site-packages (from mcp<2.0.0,>=1.8.0->strands-agents) (0.0.20)\n",
      "Requirement already satisfied: sse-starlette>=1.6.1 in /opt/conda/lib/python3.12/site-packages (from mcp<2.0.0,>=1.8.0->strands-agents) (2.4.1)\n",
      "Requirement already satisfied: starlette>=0.27 in /opt/conda/lib/python3.12/site-packages (from mcp<2.0.0,>=1.8.0->strands-agents) (0.46.2)\n",
      "Requirement already satisfied: uvicorn>=0.23.1 in /opt/conda/lib/python3.12/site-packages (from mcp<2.0.0,>=1.8.0->strands-agents) (0.34.2)\n",
      "Requirement already satisfied: importlib-metadata<8.8.0,>=6.0 in /opt/conda/lib/python3.12/site-packages (from opentelemetry-api<2.0.0,>=1.30.0->strands-agents) (6.10.0)\n",
      "Requirement already satisfied: zipp>=0.5 in /opt/conda/lib/python3.12/site-packages (from importlib-metadata<8.8.0,>=6.0->opentelemetry-api<2.0.0,>=1.30.0->strands-agents) (3.22.0)\n",
      "Requirement already satisfied: opentelemetry-instrumentation==0.56b0 in /opt/conda/lib/python3.12/site-packages (from opentelemetry-instrumentation-threading<1.00b0,>=0.51b0->strands-agents) (0.56b0)\n",
      "Requirement already satisfied: wrapt<2.0.0,>=1.0.0 in /opt/conda/lib/python3.12/site-packages (from opentelemetry-instrumentation-threading<1.00b0,>=0.51b0->strands-agents) (1.17.2)\n",
      "Requirement already satisfied: opentelemetry-semantic-conventions==0.56b0 in /opt/conda/lib/python3.12/site-packages (from opentelemetry-instrumentation==0.56b0->opentelemetry-instrumentation-threading<1.00b0,>=0.51b0->strands-agents) (0.56b0)\n",
      "Requirement already satisfied: packaging>=18.0 in /opt/conda/lib/python3.12/site-packages (from opentelemetry-instrumentation==0.56b0->opentelemetry-instrumentation-threading<1.00b0,>=0.51b0->strands-agents) (24.2)\n",
      "Requirement already satisfied: annotated-types>=0.6.0 in /opt/conda/lib/python3.12/site-packages (from pydantic<3.0.0,>=2.0.0->strands-agents) (0.7.0)\n",
      "Requirement already satisfied: pydantic-core==2.33.2 in /opt/conda/lib/python3.12/site-packages (from pydantic<3.0.0,>=2.0.0->strands-agents) (2.33.2)\n",
      "Requirement already satisfied: typing-inspection>=0.4.0 in /opt/conda/lib/python3.12/site-packages (from pydantic<3.0.0,>=2.0.0->strands-agents) (0.4.1)\n",
      "Requirement already satisfied: six>=1.5 in /opt/conda/lib/python3.12/site-packages (from python-dateutil<3.0.0,>=2.1->botocore<2.0.0,>=1.29.0->strands-agents) (1.17.0)\n",
      "Requirement already satisfied: aws-requests-auth<0.5.0,>=0.4.3 in /opt/conda/lib/python3.12/site-packages (from strands-agents-tools) (0.4.3)\n",
      "Requirement already satisfied: dill<0.5.0,>=0.4.0 in /opt/conda/lib/python3.12/site-packages (from strands-agents-tools) (0.4.0)\n",
      "Requirement already satisfied: markdownify<2.0.0,>=1.0.0 in /opt/conda/lib/python3.12/site-packages (from strands-agents-tools) (1.1.0)\n",
      "Requirement already satisfied: pillow<12.0.0,>=11.2.1 in /opt/conda/lib/python3.12/site-packages (from strands-agents-tools) (11.2.1)\n",
      "Requirement already satisfied: prompt-toolkit<4.0.0,>=3.0.51 in /opt/conda/lib/python3.12/site-packages (from strands-agents-tools) (3.0.51)\n",
      "Requirement already satisfied: pyjwt<3.0.0,>=2.10.1 in /opt/conda/lib/python3.12/site-packages (from strands-agents-tools) (2.10.1)\n",
      "Requirement already satisfied: readabilipy<1.0.0,>=0.2.0 in /opt/conda/lib/python3.12/site-packages (from strands-agents-tools) (0.3.0)\n",
      "Requirement already satisfied: rich<15.0.0,>=14.0.0 in /opt/conda/lib/python3.12/site-packages (from strands-agents-tools) (14.0.0)\n",
      "Requirement already satisfied: slack-bolt<2.0.0,>=1.23.0 in /opt/conda/lib/python3.12/site-packages (from strands-agents-tools) (1.23.0)\n",
      "Requirement already satisfied: sympy<2.0.0,>=1.12.0 in /opt/conda/lib/python3.12/site-packages (from strands-agents-tools) (1.14.0)\n",
      "Requirement already satisfied: tenacity<10.0.0,>=9.1.2 in /opt/conda/lib/python3.12/site-packages (from strands-agents-tools) (9.1.2)\n",
      "Requirement already satisfied: requests>=0.14.0 in /opt/conda/lib/python3.12/site-packages (from aws-requests-auth<0.5.0,>=0.4.3->strands-agents-tools) (2.32.3)\n",
      "Requirement already satisfied: beautifulsoup4<5,>=4.9 in /opt/conda/lib/python3.12/site-packages (from markdownify<2.0.0,>=1.0.0->strands-agents-tools) (4.13.4)\n",
      "Requirement already satisfied: soupsieve>1.2 in /opt/conda/lib/python3.12/site-packages (from beautifulsoup4<5,>=4.9->markdownify<2.0.0,>=1.0.0->strands-agents-tools) (2.7)\n",
      "Requirement already satisfied: wcwidth in /opt/conda/lib/python3.12/site-packages (from prompt-toolkit<4.0.0,>=3.0.51->strands-agents-tools) (0.2.13)\n",
      "Requirement already satisfied: html5lib in /opt/conda/lib/python3.12/site-packages (from readabilipy<1.0.0,>=0.2.0->strands-agents-tools) (1.1)\n",
      "Requirement already satisfied: lxml in /opt/conda/lib/python3.12/site-packages (from readabilipy<1.0.0,>=0.2.0->strands-agents-tools) (5.4.0)\n",
      "Requirement already satisfied: regex in /opt/conda/lib/python3.12/site-packages (from readabilipy<1.0.0,>=0.2.0->strands-agents-tools) (2024.11.6)\n",
      "Requirement already satisfied: markdown-it-py>=2.2.0 in /opt/conda/lib/python3.12/site-packages (from rich<15.0.0,>=14.0.0->strands-agents-tools) (3.0.0)\n",
      "Requirement already satisfied: pygments<3.0.0,>=2.13.0 in /opt/conda/lib/python3.12/site-packages (from rich<15.0.0,>=14.0.0->strands-agents-tools) (2.19.1)\n",
      "Requirement already satisfied: slack_sdk<4,>=3.35.0 in /opt/conda/lib/python3.12/site-packages (from slack-bolt<2.0.0,>=1.23.0->strands-agents-tools) (3.36.0)\n",
      "Requirement already satisfied: mpmath<1.4,>=1.1.0 in /opt/conda/lib/python3.12/site-packages (from sympy<2.0.0,>=1.12.0->strands-agents-tools) (1.3.0)\n",
      "Requirement already satisfied: openai>=1.33.0 in /opt/conda/lib/python3.12/site-packages (from mem0ai) (1.97.0)\n",
      "Requirement already satisfied: posthog>=3.5.0 in /opt/conda/lib/python3.12/site-packages (from mem0ai) (6.1.1)\n",
      "Requirement already satisfied: pytz>=2024.1 in /opt/conda/lib/python3.12/site-packages (from mem0ai) (2024.2)\n",
      "Requirement already satisfied: qdrant-client>=1.9.1 in /opt/conda/lib/python3.12/site-packages (from mem0ai) (1.15.0)\n",
      "Requirement already satisfied: sqlalchemy>=2.0.31 in /opt/conda/lib/python3.12/site-packages (from mem0ai) (2.0.41)\n",
      "Requirement already satisfied: certifi>=2024.07.04 in /opt/conda/lib/python3.12/site-packages (from opensearch-py) (2025.4.26)\n",
      "Collecting Events (from opensearch-py)\n",
      "  Using cached Events-0.5-py3-none-any.whl.metadata (3.9 kB)\n",
      "Requirement already satisfied: charset_normalizer<4,>=2 in /opt/conda/lib/python3.12/site-packages (from requests>=0.14.0->aws-requests-auth<0.5.0,>=0.4.3->strands-agents-tools) (3.4.2)\n",
      "Requirement already satisfied: idna<4,>=2.5 in /opt/conda/lib/python3.12/site-packages (from requests>=0.14.0->aws-requests-auth<0.5.0,>=0.4.3->strands-agents-tools) (3.10)\n",
      "Requirement already satisfied: click>=8.1.8 in /opt/conda/lib/python3.12/site-packages (from ddgs) (8.2.1)\n",
      "Requirement already satisfied: primp>=0.15.0 in /opt/conda/lib/python3.12/site-packages (from ddgs) (0.15.0)\n",
      "Requirement already satisfied: numpy<3.0,>=1.25.0 in /opt/conda/lib/python3.12/site-packages (from faiss-cpu) (1.26.4)\n",
      "Requirement already satisfied: sniffio>=1.1 in /opt/conda/lib/python3.12/site-packages (from anyio>=4.5->mcp<2.0.0,>=1.8.0->strands-agents) (1.3.1)\n",
      "Requirement already satisfied: httpcore==1.* in /opt/conda/lib/python3.12/site-packages (from httpx>=0.27->mcp<2.0.0,>=1.8.0->strands-agents) (1.0.9)\n",
      "Requirement already satisfied: h11>=0.16 in /opt/conda/lib/python3.12/site-packages (from httpcore==1.*->httpx>=0.27->mcp<2.0.0,>=1.8.0->strands-agents) (0.16.0)\n",
      "Requirement already satisfied: attrs>=22.2.0 in /opt/conda/lib/python3.12/site-packages (from jsonschema>=4.20.0->mcp<2.0.0,>=1.8.0->strands-agents) (23.2.0)\n",
      "Requirement already satisfied: jsonschema-specifications>=2023.03.6 in /opt/conda/lib/python3.12/site-packages (from jsonschema>=4.20.0->mcp<2.0.0,>=1.8.0->strands-agents) (2025.4.1)\n",
      "Requirement already satisfied: referencing>=0.28.4 in /opt/conda/lib/python3.12/site-packages (from jsonschema>=4.20.0->mcp<2.0.0,>=1.8.0->strands-agents) (0.36.2)\n",
      "Requirement already satisfied: rpds-py>=0.7.1 in /opt/conda/lib/python3.12/site-packages (from jsonschema>=4.20.0->mcp<2.0.0,>=1.8.0->strands-agents) (0.25.1)\n",
      "Requirement already satisfied: mdurl~=0.1 in /opt/conda/lib/python3.12/site-packages (from markdown-it-py>=2.2.0->rich<15.0.0,>=14.0.0->strands-agents-tools) (0.1.2)\n",
      "Requirement already satisfied: distro<2,>=1.7.0 in /opt/conda/lib/python3.12/site-packages (from openai>=1.33.0->mem0ai) (1.9.0)\n",
      "Requirement already satisfied: jiter<1,>=0.4.0 in /opt/conda/lib/python3.12/site-packages (from openai>=1.33.0->mem0ai) (0.10.0)\n",
      "Requirement already satisfied: tqdm>4 in /opt/conda/lib/python3.12/site-packages (from openai>=1.33.0->mem0ai) (4.67.1)\n",
      "Requirement already satisfied: backoff>=1.10.0 in /opt/conda/lib/python3.12/site-packages (from posthog>=3.5.0->mem0ai) (2.2.1)\n",
      "Requirement already satisfied: python-dotenv>=0.21.0 in /opt/conda/lib/python3.12/site-packages (from pydantic-settings>=2.5.2->mcp<2.0.0,>=1.8.0->strands-agents) (1.1.0)\n",
      "Requirement already satisfied: grpcio>=1.41.0 in /opt/conda/lib/python3.12/site-packages (from qdrant-client>=1.9.1->mem0ai) (1.67.1)\n",
      "Requirement already satisfied: portalocker<4.0,>=2.7.0 in /opt/conda/lib/python3.12/site-packages (from qdrant-client>=1.9.1->mem0ai) (3.2.0)\n",
      "Requirement already satisfied: protobuf>=3.20.0 in /opt/conda/lib/python3.12/site-packages (from qdrant-client>=1.9.1->mem0ai) (5.28.3)\n",
      "Requirement already satisfied: h2<5,>=3 in /opt/conda/lib/python3.12/site-packages (from httpx[http2]>=0.20.0->qdrant-client>=1.9.1->mem0ai) (4.2.0)\n",
      "Requirement already satisfied: hyperframe<7,>=6.1 in /opt/conda/lib/python3.12/site-packages (from h2<5,>=3->httpx[http2]>=0.20.0->qdrant-client>=1.9.1->mem0ai) (6.1.0)\n",
      "Requirement already satisfied: hpack<5,>=4.1 in /opt/conda/lib/python3.12/site-packages (from h2<5,>=3->httpx[http2]>=0.20.0->qdrant-client>=1.9.1->mem0ai) (4.1.0)\n",
      "Requirement already satisfied: greenlet>=1 in /opt/conda/lib/python3.12/site-packages (from sqlalchemy>=2.0.31->mem0ai) (3.2.2)\n",
      "Requirement already satisfied: webencodings in /opt/conda/lib/python3.12/site-packages (from html5lib->readabilipy<1.0.0,>=0.2.0->strands-agents-tools) (0.5.1)\n",
      "Downloading strands_agents-1.0.1-py3-none-any.whl (162 kB)\n",
      "Using cached opensearch_py-3.0.0-py3-none-any.whl (371 kB)\n",
      "Downloading ddgs-9.4.1-py3-none-any.whl (33 kB)\n",
      "Using cached faiss_cpu-1.11.0.post1-cp312-cp312-manylinux_2_27_x86_64.manylinux_2_28_x86_64.whl (31.3 MB)\n",
      "Using cached Events-0.5-py3-none-any.whl (6.8 kB)\n",
      "Installing collected packages: Events, faiss-cpu, ddgs, opensearch-py, strands-agents\n",
      "\u001b[2K  Attempting uninstall: ddgs0m\u001b[90m━━━━━━━━━━━━━━━━━━━━━━━━━━━━━━━\u001b[0m \u001b[32m1/5\u001b[0m [faiss-cpu]\n",
      "\u001b[2K    Found existing installation: ddgs 9.3.1━━━━━━━━━━━━━━━━━━━\u001b[0m \u001b[32m1/5\u001b[0m [faiss-cpu]\n",
      "\u001b[2K    Uninstalling ddgs-9.3.1:90m━━━━━━━━━━━━━━━━━━━━━━━━━━━━━━━\u001b[0m \u001b[32m1/5\u001b[0m [faiss-cpu]\n",
      "\u001b[2K      Successfully uninstalled ddgs-9.3.1━━━━━━━━━━━━━━━━━━━━━\u001b[0m \u001b[32m1/5\u001b[0m [faiss-cpu]\n",
      "\u001b[2K  Attempting uninstall: strands-agents90m╺\u001b[0m\u001b[90m━━━━━━━━━━━━━━━\u001b[0m \u001b[32m3/5\u001b[0m [opensearch-py]\n",
      "\u001b[2K    Found existing installation: strands-agents 1.0.0━━━━━━━━━\u001b[0m \u001b[32m3/5\u001b[0m [opensearch-py]\n",
      "\u001b[2K    Uninstalling strands-agents-1.0.0:\u001b[0m\u001b[90m━━━━━━━━━━━━━━━\u001b[0m \u001b[32m3/5\u001b[0m [opensearch-py]\n",
      "\u001b[2K      Successfully uninstalled strands-agents-1.0.0━━━━━━━━━━━\u001b[0m \u001b[32m3/5\u001b[0m [opensearch-py]\n",
      "\u001b[2K   \u001b[90m━━━━━━━━━━━━━━━━━━━━━━━━━━━━━━━━━━━━━━━━\u001b[0m \u001b[32m5/5\u001b[0m [strands-agents]m [strands-agents]\n",
      "\u001b[1A\u001b[2KSuccessfully installed Events-0.5 ddgs-9.4.1 faiss-cpu-1.11.0.post1 opensearch-py-3.0.0 strands-agents-1.0.1\n",
      "Requirement already satisfied: boto3 in /opt/conda/lib/python3.12/site-packages (1.39.8)\n",
      "Collecting boto3\n",
      "  Downloading boto3-1.39.11-py3-none-any.whl.metadata (6.7 kB)\n",
      "Collecting botocore<1.40.0,>=1.39.11 (from boto3)\n",
      "  Downloading botocore-1.39.11-py3-none-any.whl.metadata (5.7 kB)\n",
      "Requirement already satisfied: jmespath<2.0.0,>=0.7.1 in /opt/conda/lib/python3.12/site-packages (from boto3) (1.0.1)\n",
      "Requirement already satisfied: s3transfer<0.14.0,>=0.13.0 in /opt/conda/lib/python3.12/site-packages (from boto3) (0.13.0)\n",
      "Requirement already satisfied: python-dateutil<3.0.0,>=2.1 in /opt/conda/lib/python3.12/site-packages (from botocore<1.40.0,>=1.39.11->boto3) (2.9.0.post0)\n",
      "Requirement already satisfied: urllib3!=2.2.0,<3,>=1.25.4 in /opt/conda/lib/python3.12/site-packages (from botocore<1.40.0,>=1.39.11->boto3) (1.26.19)\n",
      "Requirement already satisfied: six>=1.5 in /opt/conda/lib/python3.12/site-packages (from python-dateutil<3.0.0,>=2.1->botocore<1.40.0,>=1.39.11->boto3) (1.17.0)\n",
      "Downloading boto3-1.39.11-py3-none-any.whl (139 kB)\n",
      "Downloading botocore-1.39.11-py3-none-any.whl (13.9 MB)\n",
      "\u001b[2K   \u001b[90m━━━━━━━━━━━━━━━━━━━━━━━━━━━━━━━━━━━━━━━━\u001b[0m \u001b[32m13.9/13.9 MB\u001b[0m \u001b[31m144.7 MB/s\u001b[0m eta \u001b[36m0:00:00\u001b[0m\n",
      "\u001b[?25hInstalling collected packages: botocore, boto3\n",
      "\u001b[2K  Attempting uninstall: botocore\n",
      "\u001b[2K    Found existing installation: botocore 1.39.8\n",
      "\u001b[2K    Uninstalling botocore-1.39.8:\n",
      "\u001b[2K      Successfully uninstalled botocore-1.39.8\n",
      "\u001b[2K  Attempting uninstall: boto3━━━━━━━━━━━━━━━━━━━\u001b[0m \u001b[32m0/2\u001b[0m [botocore]\n",
      "\u001b[2K    Found existing installation: boto3 1.39.8[0m \u001b[32m0/2\u001b[0m [botocore]\n",
      "\u001b[2K    Uninstalling boto3-1.39.8:━━━━━━━━━━━━━━\u001b[0m \u001b[32m0/2\u001b[0m [botocore]\n",
      "\u001b[2K      Successfully uninstalled boto3-1.39.8━\u001b[0m \u001b[32m0/2\u001b[0m [botocore]\n",
      "\u001b[2K   \u001b[90m━━━━━━━━━━━━━━━━━━━━━━━━━━━━━━━━━━━━━━━━\u001b[0m \u001b[32m2/2\u001b[0m [boto3]32m1/2\u001b[0m [boto3]\n",
      "\u001b[1A\u001b[2K\u001b[31mERROR: pip's dependency resolver does not currently take into account all the packages that are installed. This behaviour is the source of the following dependency conflicts.\n",
      "autogluon-multimodal 1.3.1 requires nvidia-ml-py3<8.0,>=7.352.0, which is not installed.\n",
      "aiobotocore 2.21.1 requires botocore<1.37.2,>=1.37.0, but you have botocore 1.39.11 which is incompatible.\n",
      "autogluon-multimodal 1.3.1 requires transformers[sentencepiece]<4.50,>=4.38.0, but you have transformers 4.52.4 which is incompatible.\n",
      "autogluon-timeseries 1.3.1 requires transformers[sentencepiece]<4.50,>=4.38.0, but you have transformers 4.52.4 which is incompatible.\n",
      "sagemaker-studio-analytics-extension 0.1.7 requires sparkmagic==0.22.0, but you have sparkmagic 0.21.0 which is incompatible.\u001b[0m\u001b[31m\n",
      "\u001b[0mSuccessfully installed boto3-1.39.11 botocore-1.39.11\n",
      "/bin/bash: line 1: playwright: command not found\n",
      "/bin/bash: line 1: playwright: command not found\n"
     ]
    }
   ],
   "source": [
    "# Clean up mem0\n",
    "!rm -rf /home/sagemaker-user/.mem0/\n",
    "!rm -rf /tmp/mem0_*_faiss/\n",
    "\n",
    "!pip install --upgrade strands-agents strands-agents-tools mem0ai opensearch-py ddgs faiss-cpu\n",
    "!pip install --upgrade boto3\n",
    "!playwright install\n",
    "!playwright install-deps\n",
    "\n",
    "from IPython import get_ipython\n",
    "#get_ipython().kernel.do_shutdown(True)"
   ]
  },
  {
   "cell_type": "code",
   "execution_count": 2,
   "id": "7fb6fb08-fbda-4460-a17e-b2f32ad3ad32",
   "metadata": {
    "execution": {
     "iopub.execute_input": "2025-07-23T14:06:39.823304Z",
     "iopub.status.busy": "2025-07-23T14:06:39.821827Z",
     "iopub.status.idle": "2025-07-23T14:06:39.827283Z",
     "shell.execute_reply": "2025-07-23T14:06:39.826611Z",
     "shell.execute_reply.started": "2025-07-23T14:06:39.823275Z"
    }
   },
   "outputs": [],
   "source": [
    "import os\n",
    "import logging\n",
    "\n",
    "os.environ[\"BYPASS_TOOL_CONSENT\"] = \"true\"\n",
    "\n",
    "CLAIM_ID = \"dev-use-case-01\"\n",
    "\n",
    "CONFIG = {\n",
    "  \"inputBucket\": \"insuranceclaim-input-670934798598-us-west-2\",\n",
    "  \"outputBucket\": \"insuranceclaim-output-670934798598-us-west-2\",\n",
    "  \"bdaProjectArn\": \"arn:aws:bedrock:us-west-2:670934798598:data-automation-project/37a1c412b824\",\n",
    "}\n",
    "\n",
    "logging.basicConfig(level=logging.INFO)\n",
    "logger = logging.getLogger(__name__)"
   ]
  },
  {
   "cell_type": "markdown",
   "id": "a360c5d1-340b-4cfb-b601-9a80c1fbccb6",
   "metadata": {},
   "source": [
    "# Agents"
   ]
  },
  {
   "cell_type": "markdown",
   "id": "48510da0-578c-43f4-8216-7934fea397f6",
   "metadata": {},
   "source": [
    "### 1. Document handler"
   ]
  },
  {
   "cell_type": "code",
   "execution_count": 3,
   "id": "bfc62f4d-5b89-478f-b25d-cc8581d73bbc",
   "metadata": {
    "execution": {
     "iopub.execute_input": "2025-07-23T14:06:39.829577Z",
     "iopub.status.busy": "2025-07-23T14:06:39.829273Z",
     "iopub.status.idle": "2025-07-23T14:06:39.833890Z",
     "shell.execute_reply": "2025-07-23T14:06:39.833289Z",
     "shell.execute_reply.started": "2025-07-23T14:06:39.829556Z"
    }
   },
   "outputs": [],
   "source": [
    "SAMPLE_SFN_PAYLOAD = {\n",
    "    \"inputBucket\": \"insuranceclaim-input-670934798598-us-west-2\",\n",
    "    \"outputBucket\": \"insuranceclaim-output-670934798598-us-west-2\",\n",
    "    \"key\": \"dev-use-case-01/Description of Damage.pdf\",\n",
    "    \"bdaProjectArn\": \"arn:aws:bedrock:us-west-2:670934798598:data-automation-project/37a1c412b824\",\n",
    "    \"claimId\": \"dev-use-case-01\"\n",
    "}"
   ]
  },
  {
   "cell_type": "code",
   "execution_count": 15,
   "id": "a501cf8e-c147-4ed1-b2a1-9ff89d17acb5",
   "metadata": {
    "execution": {
     "iopub.execute_input": "2025-07-23T17:06:41.894107Z",
     "iopub.status.busy": "2025-07-23T17:06:41.893718Z",
     "iopub.status.idle": "2025-07-23T17:06:42.415233Z",
     "shell.execute_reply": "2025-07-23T17:06:42.414564Z",
     "shell.execute_reply.started": "2025-07-23T17:06:41.894081Z"
    }
   },
   "outputs": [],
   "source": [
    "# Define a tool to invoke the ML model\n",
    "from strands import Agent, tool\n",
    "from strands_tools import use_aws, mem0_memory\n",
    "from tampered_image_detection import check_image\n",
    "from IPython.display import display, Markdown\n",
    "import json\n",
    "import time\n",
    "import boto3\n",
    "import os\n",
    "from strands.models.bedrock import BedrockModel\n",
    "\n",
    "os.environ[\"BYPASS_TOOL_CONSENT\"] = \"true\"\n",
    "\n",
    "@tool\n",
    "def invoke_bda_sfn(document_s3_key: str) -> str:\n",
    "    \"\"\"\n",
    "    Execute BDA to extract or infer information from given files.\n",
    "    Args:\n",
    "    document_s3_key(str): A key path to the file, excluding s3 bucket name.\n",
    "    \"\"\"\n",
    "    sfn = boto3.client('stepfunctions')\n",
    "    response = sfn.start_execution(\n",
    "        stateMachineArn=f\"arn:aws:states:us-west-2:670934798598:stateMachine:insuranceclaim-Ingestion\",\n",
    "        input=json.dumps({**SAMPLE_SFN_PAYLOAD, \"key\": document_s3_key})\n",
    "    )\n",
    "\n",
    "    # Get the execution ARN from the response\n",
    "    execution_arn = response['executionArn']\n",
    "\n",
    "    while True:\n",
    "        # Get execution status\n",
    "        execution_response = sfn.describe_execution(\n",
    "            executionArn=execution_arn\n",
    "        )\n",
    "\n",
    "        status = execution_response['status']\n",
    "\n",
    "        if status in ['SUCCEEDED', 'FAILED', 'TIMED_OUT', 'ABORTED']:\n",
    "            # Return the output from the state machine\n",
    "            return str(execution_response[\"output\"])\n",
    "        # Wait for 5 seconds before checking again\n",
    "        time.sleep(3)\n",
    "    return \"FAILED\"\n",
    "\n",
    "# Testing\n",
    "#invoke_bda_sfn(\"dev-use-case-01/Description of Damage.pdf\")\n",
    "\n",
    "model = BedrockModel(model_id=\"us.amazon.nova-pro-v1:0\")\n",
    "\n",
    "document_processor_agent = Agent(\n",
    "    name=\"document_processor\",\n",
    "#    model = model,\n",
    "    system_prompt=f\"You are a document processor handling multi-modal documents including text, PDFs, images, audio and video files.\"\n",
    "    f\"You will be given with a CLAIM_ID.\"\n",
    "    f\"Firstly, scan a prefix in a S3 bucket {CONFIG['inputBucket']} and find keys for each document.\"\n",
    "    f\"Then run `invoke_bda_sfn` tool parallely to process the documents.\"\n",
    "    f\"Create a the list of documents processed along with their input and output file locations in JSON format.\"\n",
    "    f\"Return the JSON part only.\",\n",
    "    #f\"Store the JSON produced into a DynamoDB table `insuranceclaims-documents` in us-west-2, using claim_id as a partition key.\",\n",
    "    #f\"Use memory to store outputs from the previous step.\",\n",
    "    tools=[use_aws, invoke_bda_sfn]\n",
    "    )\n",
    "\n",
    "@tool\n",
    "def document_processor(claim_id:str):\n",
    "    \"\"\" A document processor extracting data from multi-modal documents including text, PDFs, images, audio and video files.\n",
    "        Args:\n",
    "            claim_id(str)\n",
    "    \"\"\"\n",
    "    response = document_processor_agent(claim_id)\n",
    "    return response.message[\"content\"][0][\"text\"]\n",
    "\n",
    "\n",
    "# Testing\n",
    "#document_processor(CLAIM_ID)"
   ]
  },
  {
   "cell_type": "markdown",
   "id": "cda8ec6e-a8d7-447c-999a-99bf7105c2ce",
   "metadata": {},
   "source": [
    "### 2. Assessor (TBD)"
   ]
  },
  {
   "cell_type": "markdown",
   "id": "35101cab-da86-4621-8df7-8821ac5ebbcd",
   "metadata": {},
   "source": [
    "### 3. Investigator"
   ]
  },
  {
   "cell_type": "code",
   "execution_count": 24,
   "id": "6d3b7cbc-6b19-4cb8-a56c-6809e6d88627",
   "metadata": {
    "execution": {
     "iopub.execute_input": "2025-07-26T15:44:34.038250Z",
     "iopub.status.busy": "2025-07-26T15:44:34.037890Z",
     "iopub.status.idle": "2025-07-26T15:44:44.830412Z",
     "shell.execute_reply": "2025-07-26T15:44:44.829804Z",
     "shell.execute_reply.started": "2025-07-26T15:44:34.038228Z"
    }
   },
   "outputs": [
    {
     "data": {
      "text/plain": [
       "'tampered'"
      ]
     },
     "execution_count": 24,
     "metadata": {},
     "output_type": "execute_result"
    }
   ],
   "source": [
    "# Define a tool to invoke the ML model\n",
    "from strands import Agent, tool\n",
    "from tampered_image_detection import check_image\n",
    "from IPython.display import display, Markdown\n",
    "\n",
    "\n",
    "@tool\n",
    "def detect_tampered_image(s3_uri: str) -> str:\n",
    "    \"\"\"\n",
    "    Detect if the input image is a forged one or not.\n",
    "    Args:\n",
    "    s3_uri(str): A S3 URI to the image file.\n",
    "\n",
    "    Return (str): \"tampered\" if the image is a forged one, \"original\" if not.\n",
    "    \"\"\"\n",
    "    #logger.info(s3_uri)\n",
    "    response = check_image(s3_uri, \"document-tampering-detection-v-DEMO\")\n",
    "    \n",
    "    return \"tampered\" if response else \"original\"\n",
    "    \n",
    "#detect_tampered_image( \"s3://insuranceclaim-input-670934798598-us-west-2/dev-use-case-01/Proof-of-damage.png\")\n",
    "#tampered_image_detector_agent = Agent(system_prompt=\"You are a fraud detector for insurance claims document processing.\"\n",
    "#              \"Detect if given image files were forged one or not. Be concise about your answer, mentioning only if the image seems tampered one or not.\",\n",
    "#              tools = [detect_tampered_image])\n",
    "\n",
    "#Testing\n",
    "response = detect_tampered_image(\n",
    "   \"s3://insuranceclaim-input-670934798598-us-west-2/test/Noisy Image (Random)_screenshot_23.07.2025.png\"\n",
    ")\n",
    "response\n",
    "\n",
    "\n"
   ]
  },
  {
   "cell_type": "code",
   "execution_count": 6,
   "id": "775c6b9c-029f-419b-a5b4-2f00fffa55a6",
   "metadata": {
    "execution": {
     "iopub.execute_input": "2025-07-23T14:06:53.816907Z",
     "iopub.status.busy": "2025-07-23T14:06:53.816670Z",
     "iopub.status.idle": "2025-07-23T14:06:53.905059Z",
     "shell.execute_reply": "2025-07-23T14:06:53.904474Z",
     "shell.execute_reply.started": "2025-07-23T14:06:53.816889Z"
    }
   },
   "outputs": [],
   "source": [
    "# Web search tool\n",
    "from strands import tool, Agent\n",
    "from ddgs import DDGS\n",
    "\n",
    "@tool\n",
    "def web_search(\n",
    "    keywords: str,\n",
    "    region: str = \"us-en\",\n",
    "    max_results: int = 7,\n",
    ") -> str:\n",
    "    \"\"\"Search the web to get updated information.\n",
    "    Args:\n",
    "        keywords (str): The search query keywords.\n",
    "        region (str): The search region: wt-wt, us-en, uk-en, ru-ru, etc..\n",
    "        max_results (int | None): The maximum number of results to return.\n",
    "    Returns:\n",
    "        List of dictionaries with search results.\n",
    "    \"\"\"\n",
    "    try:\n",
    "        results = DDGS().text(keywords, region=region, max_results=max_results)\n",
    "        return results if results else \"No results found.\"\n",
    "    except Exception as e:\n",
    "        return f\"Exception: {e}\"\n",
    "\n",
    "# Test\n",
    "#web_search(\"How much does it cost to fix a car\")"
   ]
  },
  {
   "cell_type": "markdown",
   "id": "6e9ec1e0-61c7-4b02-afde-2175bc97a4aa",
   "metadata": {},
   "source": [
    "#### Investigator"
   ]
  },
  {
   "cell_type": "code",
   "execution_count": 7,
   "id": "a28f66ad-8c6d-4bc1-853e-8f29995f912a",
   "metadata": {
    "execution": {
     "iopub.execute_input": "2025-07-23T14:06:53.906061Z",
     "iopub.status.busy": "2025-07-23T14:06:53.905684Z",
     "iopub.status.idle": "2025-07-23T14:06:54.015869Z",
     "shell.execute_reply": "2025-07-23T14:06:54.015144Z",
     "shell.execute_reply.started": "2025-07-23T14:06:53.906041Z"
    }
   },
   "outputs": [],
   "source": [
    "from strands_tools import think\n",
    "from strands_tools import mem0_memory, use_aws, current_time, use_aws, python_repl\n",
    "\n",
    "\n",
    "#model = BedrockModel(model_id=\"us.amazon.nova-pro-v1:0\")\n",
    "\n",
    "investigator_agent = Agent(\n",
    "    name=\"investigator\",\n",
    "    #model=model,\n",
    "    system_prompt=\"You are an assistant for the inspector.\"\n",
    "          \"Find the extracted data from the claim, then check if the documents are truthful using tools provided.\"\n",
    "          \"You can find list of the documents in a DynamoDB table `insuranceclaims-documents` in us-west-2, using claim_id as a key\"\n",
    "          \"For example, use detect_tampered_image tool to find if .png files are forged ones.\"\n",
    "          \"For stated facts, try your best to validate them by getting helps from the provided tool\"\n",
    "          \"Use your memory to find the location of the extracted document and remember the findings into memory, using the claim_id as agent_id\",\n",
    "    tools = [use_aws, detect_tampered_image, web_search, mem0_memory, current_time], )\n",
    "\n",
    "#investigator_agent(CLAIM_ID)"
   ]
  },
  {
   "cell_type": "markdown",
   "id": "2350a1f3-914b-4f38-ad2c-e33c19c9eb78",
   "metadata": {},
   "source": [
    "#### Adjustor"
   ]
  },
  {
   "cell_type": "code",
   "execution_count": 8,
   "id": "0158c9d1-6216-4267-9e24-e3f3683448fa",
   "metadata": {
    "execution": {
     "iopub.execute_input": "2025-07-23T14:06:54.017633Z",
     "iopub.status.busy": "2025-07-23T14:06:54.016963Z",
     "iopub.status.idle": "2025-07-23T14:06:54.090719Z",
     "shell.execute_reply": "2025-07-23T14:06:54.090043Z",
     "shell.execute_reply.started": "2025-07-23T14:06:54.017599Z"
    }
   },
   "outputs": [],
   "source": [
    "\n",
    "from strands_tools import mem0_memory, use_aws, current_time, use_aws, python_repl, think\n",
    "\n",
    "\n",
    "#model = BedrockModel(model_id=\"us.amazon.nova-pro-v1:0\")\n",
    "\n",
    "adjustor_agent = Agent(\n",
    "    name=\"adjustor\",\n",
    "    #model=model,\n",
    "    system_prompt=\"You are an claim adjustor. Find polici document for the insurance case, and find out the fair and accurate payout for the claim, and suggest adjusted payout.\"\n",
    "    #\"You can find list of the documents in a DynamoDB table `insuranceclaims-documents` in us-west-2, using claim_id as a key. Find out the policy document from there.\"\n",
    "    \"Use memory to check what investigator has found regarding the claim. Use claim_id as agent_id.\"\n",
    "    \"Generate your suggestion for adjusting the claim case\",\n",
    "    tools = [use_aws, mem0_memory], )\n",
    "\n",
    "\n",
    "#Testing\n",
    "#adjustor(adjustor_agent)"
   ]
  },
  {
   "cell_type": "markdown",
   "id": "df2d352b-4535-4013-8127-8462da14b8a3",
   "metadata": {},
   "source": [
    "### Reviewer"
   ]
  },
  {
   "cell_type": "code",
   "execution_count": 9,
   "id": "03b1ddb9-f32b-4518-bde7-d045c2a6982b",
   "metadata": {
    "execution": {
     "iopub.execute_input": "2025-07-23T14:06:54.092739Z",
     "iopub.status.busy": "2025-07-23T14:06:54.092115Z",
     "iopub.status.idle": "2025-07-23T14:06:54.354568Z",
     "shell.execute_reply": "2025-07-23T14:06:54.353891Z",
     "shell.execute_reply.started": "2025-07-23T14:06:54.092705Z"
    }
   },
   "outputs": [],
   "source": [
    "\n",
    "from strands_tools import mem0_memory, use_aws, current_time, use_aws, python_repl, think\n",
    "\n",
    "\n",
    "reviewer_agent = Agent(\n",
    "    name=\"reviwer\",\n",
    "    system_prompt=\"You are a reviwer of insurnace claim cases. \"\n",
    "    #\"You can find list of the documents in a DynamoDB table `insuranceclaims-documents` in us-west-2, using claim_id as a key.\"\n",
    "    \"Use memory to check what investigator has found regarding the claim. Use claim_id as agent_id.\"\n",
    "    \"Review the documents and find out if anything is missing. If so, send it back.\",\n",
    "    tools = [use_aws, mem0_memory], )\n",
    "\n",
    "#Testing\n",
    "#reviewer_agent(CLAIM_ID)"
   ]
  },
  {
   "cell_type": "markdown",
   "id": "b5cddfdc-5a0c-451b-b9f8-be421c2c7299",
   "metadata": {},
   "source": [
    "### Report Generator"
   ]
  },
  {
   "cell_type": "code",
   "execution_count": 10,
   "id": "a7909688-4049-4461-9271-22856e43bd03",
   "metadata": {
    "execution": {
     "iopub.execute_input": "2025-07-23T14:06:54.355765Z",
     "iopub.status.busy": "2025-07-23T14:06:54.355347Z",
     "iopub.status.idle": "2025-07-23T14:06:54.431600Z",
     "shell.execute_reply": "2025-07-23T14:06:54.430974Z",
     "shell.execute_reply.started": "2025-07-23T14:06:54.355736Z"
    }
   },
   "outputs": [],
   "source": [
    "from strands_tools import think\n",
    "from strands_tools import mem0_memory, use_aws, current_time, use_aws\n",
    "\n",
    "\n",
    "model = BedrockModel(model_id=\"us.amazon.nova-pro-v1:0\")\n",
    "\n",
    "report_agent = Agent(\n",
    "    model=model,\n",
    "    name=\"report\",\n",
    "    system_prompt=\"You are a insurnace claim agent. You evaluate collected information on a claim case and create a report.\"\n",
    "    #\"Use all the information collected. Use your memory using the given claim_id as an agent_id.\"\n",
    "    #\"You can find the location of JSON files from document processing as well.\"\n",
    "    \"Generate the final report in Markdown format\",\n",
    "    tools = [use_aws, mem0_memory])\n",
    "\n",
    "#Testing\n",
    "#report_agent(CLAIM_ID)"
   ]
  },
  {
   "cell_type": "markdown",
   "id": "3f3d90b5-08a2-49e5-b250-52369fee7b22",
   "metadata": {},
   "source": [
    "### Claim Adjustor (TBD)"
   ]
  },
  {
   "cell_type": "markdown",
   "id": "41d9abe6-bb11-4ac1-a971-f619b9f1adc6",
   "metadata": {},
   "source": [
    "### Report Generator"
   ]
  },
  {
   "cell_type": "markdown",
   "id": "331323d3-d79d-4e84-8510-90ddf7822c65",
   "metadata": {},
   "source": [
    "# Put Everything Together"
   ]
  },
  {
   "cell_type": "code",
   "execution_count": 11,
   "id": "57186223-969a-4f9c-9555-b70f76207b5f",
   "metadata": {
    "execution": {
     "iopub.execute_input": "2025-07-23T14:06:54.432805Z",
     "iopub.status.busy": "2025-07-23T14:06:54.432549Z",
     "iopub.status.idle": "2025-07-23T14:06:54.524614Z",
     "shell.execute_reply": "2025-07-23T14:06:54.523975Z",
     "shell.execute_reply.started": "2025-07-23T14:06:54.432784Z"
    }
   },
   "outputs": [],
   "source": [
    "from strands import Agent\n",
    "from strands.multiagent import GraphBuilder, Swarm\n",
    "\n",
    "builder = GraphBuilder()\n",
    "\n",
    "builder.add_node(document_processor_agent, \"document_processor\")\n",
    "\n",
    "assessor_swarm = Swarm(\n",
    "    [investigator_agent, adjustor_agent, reviewer_agent],\n",
    "    max_handoffs=4,\n",
    "    max_iterations=2,\n",
    "    execution_timeout=300.0,\n",
    "    node_timeout=60\n",
    ")\n",
    "builder.add_node(assessor_swarm, \"accessor\")\n",
    "builder.add_node(report_agent, \"report\")\n",
    "\n",
    "builder.add_edge(\"document_processor\", \"accessor\")\n",
    "builder.add_edge(\"accessor\", \"report\")\n",
    "\n",
    "# Set entry points (optional - will be auto-detected if not specified)\n",
    "builder.set_entry_point(\"document_processor\")\n",
    "\n",
    "# Build the graph\n",
    "graph = builder.build()"
   ]
  },
  {
   "cell_type": "code",
   "execution_count": 12,
   "id": "6710a33a-8553-435b-bb48-ba670b8c9154",
   "metadata": {
    "execution": {
     "iopub.execute_input": "2025-07-23T14:06:54.526179Z",
     "iopub.status.busy": "2025-07-23T14:06:54.525810Z",
     "iopub.status.idle": "2025-07-23T14:09:59.031933Z",
     "shell.execute_reply": "2025-07-23T14:09:59.031189Z",
     "shell.execute_reply.started": "2025-07-23T14:06:54.526149Z"
    }
   },
   "outputs": [
    {
     "name": "stderr",
     "output_type": "stream",
     "text": [
      "INFO:strands.telemetry.metrics:Creating Strands MetricsClient\n"
     ]
    },
    {
     "name": "stdout",
     "output_type": "stream",
     "text": [
      "I'll help you process documents for claim ID \"dev-use-case-01\". Let me start by scanning the S3 bucket to find all documents under this prefix.\n",
      "Tool #1: use_aws\n"
     ]
    },
    {
     "data": {
      "text/html": [
       "<pre style=\"white-space:pre;overflow-x:auto;line-height:normal;font-family:Menlo,'DejaVu Sans Mono',consolas,'Courier New',monospace\"><span style=\"color: #000080; text-decoration-color: #000080\">╭─────── </span><span style=\"color: #000080; text-decoration-color: #000080; font-weight: bold\">🚀 List documents for claim ID dev-use-case-01</span><span style=\"color: #000080; text-decoration-color: #000080\"> ────────╮</span>\n",
       "<span style=\"color: #000080; text-decoration-color: #000080\">│</span>                                                               <span style=\"color: #000080; text-decoration-color: #000080\">│</span>\n",
       "<span style=\"color: #000080; text-decoration-color: #000080\">│</span>  <span style=\"color: #008080; text-decoration-color: #008080\">Service:      </span> <span style=\"color: #c0c0c0; text-decoration-color: #c0c0c0\"> s3                                         </span>  <span style=\"color: #000080; text-decoration-color: #000080\">│</span>\n",
       "<span style=\"color: #000080; text-decoration-color: #000080\">│</span>  <span style=\"color: #008080; text-decoration-color: #008080\">Operation:    </span> <span style=\"color: #c0c0c0; text-decoration-color: #c0c0c0\"> list_objects_v2                            </span>  <span style=\"color: #000080; text-decoration-color: #000080\">│</span>\n",
       "<span style=\"color: #000080; text-decoration-color: #000080\">│</span>  <span style=\"color: #008080; text-decoration-color: #008080\">Region:       </span> <span style=\"color: #c0c0c0; text-decoration-color: #c0c0c0\"> us-west-2                                  </span>  <span style=\"color: #000080; text-decoration-color: #000080\">│</span>\n",
       "<span style=\"color: #000080; text-decoration-color: #000080\">│</span>  <span style=\"color: #008080; text-decoration-color: #008080\">Parameters:   </span> <span style=\"color: #c0c0c0; text-decoration-color: #c0c0c0\">                                            </span>  <span style=\"color: #000080; text-decoration-color: #000080\">│</span>\n",
       "<span style=\"color: #000080; text-decoration-color: #000080\">│</span>  <span style=\"color: #008080; text-decoration-color: #008080\">  • Bucket:   </span> <span style=\"color: #c0c0c0; text-decoration-color: #c0c0c0\"> insuranceclaim-input-670934798598-us-west-2</span>  <span style=\"color: #000080; text-decoration-color: #000080\">│</span>\n",
       "<span style=\"color: #000080; text-decoration-color: #000080\">│</span>  <span style=\"color: #008080; text-decoration-color: #008080\">  • Prefix:   </span> <span style=\"color: #c0c0c0; text-decoration-color: #c0c0c0\"> dev-use-case-01/                           </span>  <span style=\"color: #000080; text-decoration-color: #000080\">│</span>\n",
       "<span style=\"color: #000080; text-decoration-color: #000080\">│</span>                                                               <span style=\"color: #000080; text-decoration-color: #000080\">│</span>\n",
       "<span style=\"color: #000080; text-decoration-color: #000080\">╰───────────────────────────────────────────────────────────────╯</span>\n",
       "</pre>\n"
      ],
      "text/plain": [
       "\u001b[34m╭─\u001b[0m\u001b[34m──────\u001b[0m\u001b[34m \u001b[0m\u001b[1;34m🚀 List documents for claim ID dev-use-case-01\u001b[0m\u001b[34m \u001b[0m\u001b[34m───────\u001b[0m\u001b[34m─╮\u001b[0m\n",
       "\u001b[34m│\u001b[0m                                                               \u001b[34m│\u001b[0m\n",
       "\u001b[34m│\u001b[0m  \u001b[36mService:     \u001b[0m\u001b[36m \u001b[0m \u001b[37m \u001b[0m\u001b[37ms3                                         \u001b[0m  \u001b[34m│\u001b[0m\n",
       "\u001b[34m│\u001b[0m  \u001b[36mOperation:   \u001b[0m\u001b[36m \u001b[0m \u001b[37m \u001b[0m\u001b[37mlist_objects_v2                            \u001b[0m  \u001b[34m│\u001b[0m\n",
       "\u001b[34m│\u001b[0m  \u001b[36mRegion:      \u001b[0m\u001b[36m \u001b[0m \u001b[37m \u001b[0m\u001b[37mus-west-2                                  \u001b[0m  \u001b[34m│\u001b[0m\n",
       "\u001b[34m│\u001b[0m  \u001b[36mParameters:  \u001b[0m\u001b[36m \u001b[0m \u001b[37m \u001b[0m\u001b[37m                                           \u001b[0m  \u001b[34m│\u001b[0m\n",
       "\u001b[34m│\u001b[0m  \u001b[36m  • Bucket:  \u001b[0m\u001b[36m \u001b[0m \u001b[37m \u001b[0m\u001b[37minsuranceclaim-input-670934798598-us-west-2\u001b[0m  \u001b[34m│\u001b[0m\n",
       "\u001b[34m│\u001b[0m  \u001b[36m  • Prefix:  \u001b[0m\u001b[36m \u001b[0m \u001b[37m \u001b[0m\u001b[37mdev-use-case-01/                           \u001b[0m  \u001b[34m│\u001b[0m\n",
       "\u001b[34m│\u001b[0m                                                               \u001b[34m│\u001b[0m\n",
       "\u001b[34m╰───────────────────────────────────────────────────────────────╯\u001b[0m\n"
      ]
     },
     "metadata": {},
     "output_type": "display_data"
    },
    {
     "name": "stdout",
     "output_type": "stream",
     "text": [
      "Now I'll process all the documents in parallel using the BDA step function. I found 7 documents (excluding the folder entry):\n",
      "Tool #2: invoke_bda_sfn\n",
      "\n",
      "Tool #3: invoke_bda_sfn\n",
      "\n",
      "Tool #4: invoke_bda_sfn\n",
      "\n",
      "Tool #5: invoke_bda_sfn\n",
      "\n",
      "Tool #6: invoke_bda_sfn\n",
      "\n",
      "Tool #7: invoke_bda_sfn\n",
      "\n",
      "Tool #8: invoke_bda_sfn\n",
      "```json\n",
      "{\n",
      "  \"claim_id\": \"dev-use-case-01\",\n",
      "  \"processed_documents\": [\n",
      "    {\n",
      "      \"document_name\": \"Customer-call.m4a\",\n",
      "      \"document_type\": \"audio\",\n",
      "      \"input_location\": \"s3://insuranceclaim-input-670934798598-us-west-2/dev-use-case-01/Customer-call.m4a\",\n",
      "      \"output_location\": \"s3://insuranceclaim-output-670934798598-us-west-2/dev-use-case-01/Customer-call.m4a/005c6046-c4a1-4f81-9ee3-1020995af442/0/standard_output/0/result.json\",\n",
      "      \"status\": \"success\"\n",
      "    },\n",
      "    {\n",
      "      \"document_name\": \"Description of Damage.pdf\",\n",
      "      \"document_type\": \"pdf\",\n",
      "      \"input_location\": \"s3://insuranceclaim-input-670934798598-us-west-2/dev-use-case-01/Description of Damage.pdf\",\n",
      "      \"output_location\": \"s3://insuranceclaim-output-670934798598-us-west-2/dev-use-case-01/Description of Damage.pdf/051a60be-483d-4a03-8316-9749dd7b5218/0/custom_output/0/result.json\",\n",
      "      \"status\": \"success\"\n",
      "    },\n",
      "    {\n",
      "      \"document_name\": \"Homeowners Insurance Policy.pdf\",\n",
      "      \"document_type\": \"pdf\",\n",
      "      \"input_location\": \"s3://insuranceclaim-input-670934798598-us-west-2/dev-use-case-01/Homeowners Insurance Policy.pdf\",\n",
      "      \"output_location\": \"s3://insuranceclaim-output-670934798598-us-west-2/dev-use-case-01/Homeowners Insurance Policy.pdf/086c3662-d675-423e-ab04-2b3e93eb5496/0/custom_output/0/result.json\",\n",
      "      \"status\": \"success\"\n",
      "    },\n",
      "    {\n",
      "      \"document_name\": \"Proof-of-damage.png\",\n",
      "      \"document_type\": \"image\",\n",
      "      \"input_location\": \"s3://insuranceclaim-input-670934798598-us-west-2/dev-use-case-01/Proof-of-damage.png\",\n",
      "      \"output_location\": \"s3://insuranceclaim-output-670934798598-us-west-2/dev-use-case-01/Proof-of-damage.png/00d9335e-cb0e-4f0f-a394-0c622188caf9/0/custom_output/0/result.json\",\n",
      "      \"status\": \"success\"\n",
      "    },\n",
      "    {\n",
      "      \"document_name\": \"Property Damage Claim Form.pdf\",\n",
      "      \"document_type\": \"pdf\",\n",
      "      \"input_location\": \"s3://insuranceclaim-input-670934798598-us-west-2/dev-use-case-01/Property Damage Claim Form.pdf\",\n",
      "      \"output_location\": \"s3://insuranceclaim-output-670934798598-us-west-2/dev-use-case-01/Property Damage Claim Form.pdf/03408ef4-c058-4136-9683-e919222053a7/0/custom_output/0/result.json\",\n",
      "      \"status\": \"success\"\n",
      "    },\n",
      "    {\n",
      "      \"document_name\": \"Vendor Estimates.pdf\",\n",
      "      \"document_type\": \"pdf\",\n",
      "      \"input_location\": \"s3://insuranceclaim-input-670934798598-us-west-2/dev-use-case-01/Vendor Estimates.pdf\",\n",
      "      \"output_location\": \"s3://insuranceclaim-output-670934798598-us-west-2/dev-use-case-01/Vendor Estimates.pdf/00aa4157-fcbb-4d41-be5b-dee729fcbbc4/0/custom_output/0/result.json\",\n",
      "      \"status\": \"success\"\n",
      "    },\n",
      "    {\n",
      "      \"document_name\": \"Vendor material costs.pdf\",\n",
      "      \"document_type\": \"pdf\",\n",
      "      \"input_location\": \"s3://insuranceclaim-input-670934798598-us-west-2/dev-use-case-01/Vendor material costs.pdf\",\n",
      "      \"output_location\": \"s3://insuranceclaim-output-670934798598-us-west-2/dev-use-case-01/Vendor material costs.pdf/046cdeb0-d320-41e8-a60b-fe484a5350ec/0/custom_output/0/result.json\",\n",
      "      \"status\": \"success\"\n",
      "    }\n",
      "  ],\n",
      "  \"total_documents\": 7,\n",
      "  \"processing_summary\": {\n",
      "    \"successful\": 7,\n",
      "    \"failed\": 0\n",
      "  }\n",
      "}\n",
      "```"
     ]
    },
    {
     "name": "stderr",
     "output_type": "stream",
     "text": [
      "/opt/conda/lib/python3.12/site-packages/botocore/endpoint.py:169: DeprecationWarning: datetime.datetime.utcnow() is deprecated and scheduled for removal in a future version. Use timezone-aware objects to represent datetimes in UTC: datetime.datetime.now(datetime.UTC).\n",
      "  response_received_timestamp = datetime.datetime.utcnow()\n",
      "/opt/conda/lib/python3.12/site-packages/botocore/endpoint.py:152: DeprecationWarning: datetime.datetime.utcnow() is deprecated and scheduled for removal in a future version. Use timezone-aware objects to represent datetimes in UTC: datetime.datetime.now(datetime.UTC).\n",
      "  local_timestamp = datetime.datetime.utcnow()\n",
      "ERROR:strands.multiagent.swarm:node=<investigator>, timeout=<60>s | node execution timed out after timeout\n",
      "Traceback (most recent call last):\n",
      "  File \"/opt/conda/lib/python3.12/asyncio/tasks.py\", line 520, in wait_for\n",
      "    return await fut\n",
      "           ^^^^^^^^^\n",
      "  File \"/opt/conda/lib/python3.12/site-packages/strands/multiagent/swarm.py\", line 590, in _execute_node\n",
      "    result = await node.executor.invoke_async(node_input)\n",
      "             ^^^^^^^^^^^^^^^^^^^^^^^^^^^^^^^^^^^^^^^^^^^^\n",
      "  File \"/opt/conda/lib/python3.12/site-packages/strands/agent/agent.py\", line 398, in invoke_async\n",
      "    async for event in events:\n",
      "  File \"/opt/conda/lib/python3.12/site-packages/strands/agent/agent.py\", line 508, in stream_async\n",
      "    async for event in events:\n",
      "  File \"/opt/conda/lib/python3.12/site-packages/strands/agent/agent.py\", line 544, in _run_loop\n",
      "    async for event in events:\n",
      "  File \"/opt/conda/lib/python3.12/site-packages/strands/agent/agent.py\", line 583, in _execute_event_loop_cycle\n",
      "    async for event in events:\n",
      "  File \"/opt/conda/lib/python3.12/site-packages/strands/event_loop/event_loop.py\", line 132, in event_loop_cycle\n",
      "    async for event in stream_messages(agent.model, agent.system_prompt, agent.messages, tool_specs):\n",
      "  File \"/opt/conda/lib/python3.12/site-packages/strands/event_loop/streaming.py\", line 318, in stream_messages\n",
      "    async for event in process_stream(chunks):\n",
      "  File \"/opt/conda/lib/python3.12/site-packages/strands/event_loop/streaming.py\", line 273, in process_stream\n",
      "    async for chunk in chunks:\n",
      "  File \"/opt/conda/lib/python3.12/site-packages/strands/models/bedrock.py\", line 344, in stream\n",
      "    event = await queue.get()\n",
      "            ^^^^^^^^^^^^^^^^^\n",
      "  File \"/opt/conda/lib/python3.12/asyncio/queues.py\", line 158, in get\n",
      "    await getter\n",
      "asyncio.exceptions.CancelledError\n",
      "\n",
      "The above exception was the direct cause of the following exception:\n",
      "\n",
      "Traceback (most recent call last):\n",
      "  File \"/opt/conda/lib/python3.12/site-packages/strands/multiagent/swarm.py\", line 528, in _execute_swarm\n",
      "    await asyncio.wait_for(\n",
      "  File \"/opt/conda/lib/python3.12/asyncio/tasks.py\", line 519, in wait_for\n",
      "    async with timeouts.timeout(timeout):\n",
      "               ^^^^^^^^^^^^^^^^^^^^^^^^^\n",
      "  File \"/opt/conda/lib/python3.12/asyncio/timeouts.py\", line 115, in __aexit__\n",
      "    raise TimeoutError from exc_val\n",
      "TimeoutError\n"
     ]
    },
    {
     "name": "stdout",
     "output_type": "stream",
     "text": [
      "<thinking> Based on the inputs from the previous nodes, I need to generate a final report in Markdown format. However, the specific details of the claim case are not provided in the input. To proceed, I need to gather the necessary information about the claim case. I will use the `mem0_"
     ]
    },
    {
     "name": "stderr",
     "output_type": "stream",
     "text": [
      "INFO:faiss.loader:Loading faiss with AVX512 support.\n",
      "<frozen importlib._bootstrap>:488: DeprecationWarning: builtin type SwigPyPacked has no __module__ attribute\n",
      "<frozen importlib._bootstrap>:488: DeprecationWarning: builtin type SwigPyObject has no __module__ attribute\n",
      "<frozen importlib._bootstrap>:488: DeprecationWarning: builtin type swigvarlink has no __module__ attribute\n",
      "INFO:faiss.loader:Successfully loaded faiss with AVX512 support.\n",
      "INFO:faiss:Failed to load GPU Faiss: name 'GpuIndexIVFFlat' is not defined. Will not load constructor refs for GPU indexes. This is only an error if you're trying to use GPU Faiss.\n",
      "INFO:mem0.vector_stores.faiss:Inserted 1 vectors into collection mem0migrations\n"
     ]
    },
    {
     "name": "stdout",
     "output_type": "stream",
     "text": [
      "memory` tool to retrieve relevant memories related to the claim case. </thinking>\n",
      "\n",
      "Tool #1: mem0_memory\n"
     ]
    },
    {
     "data": {
      "text/html": [
       "<pre style=\"white-space:pre;overflow-x:auto;line-height:normal;font-family:Menlo,'DejaVu Sans Mono',consolas,'Courier New',monospace\"><span style=\"color: #800000; text-decoration-color: #800000\">╭─────────────────────────────────────────── ❌ Memory Operation Error ───────────────────────────────────────────╮</span>\n",
       "<span style=\"color: #800000; text-decoration-color: #800000\">│</span> <span style=\"color: #800000; text-decoration-color: #800000\">Either user_id or agent_id must be provided</span>                                                                     <span style=\"color: #800000; text-decoration-color: #800000\">│</span>\n",
       "<span style=\"color: #800000; text-decoration-color: #800000\">╰─────────────────────────────────────────────────────────────────────────────────────────────────────────────────╯</span>\n",
       "</pre>\n"
      ],
      "text/plain": [
       "\u001b[31m╭─\u001b[0m\u001b[31m──────────────────────────────────────────\u001b[0m\u001b[31m ❌ Memory Operation Error \u001b[0m\u001b[31m──────────────────────────────────────────\u001b[0m\u001b[31m─╮\u001b[0m\n",
       "\u001b[31m│\u001b[0m \u001b[31mEither user_id or agent_id must be provided\u001b[0m                                                                     \u001b[31m│\u001b[0m\n",
       "\u001b[31m╰─────────────────────────────────────────────────────────────────────────────────────────────────────────────────╯\u001b[0m\n"
      ]
     },
     "metadata": {},
     "output_type": "display_data"
    },
    {
     "name": "stderr",
     "output_type": "stream",
     "text": [
      "/opt/conda/lib/python3.12/site-packages/botocore/auth.py:422: DeprecationWarning: datetime.datetime.utcnow() is deprecated and scheduled for removal in a future version. Use timezone-aware objects to represent datetimes in UTC: datetime.datetime.now(datetime.UTC).\n",
      "  datetime_now = datetime.datetime.utcnow()\n"
     ]
    },
    {
     "name": "stdout",
     "output_type": "stream",
     "text": [
      "<thinking> The `mem0_memory` tool requires either a `user_id` or `agent_id` to perform the retrieval. Since I don't have this information, I need to ask the user to provide either the `user_id` or `agent_id` to proceed with retrieving the claim case details. </thinking> \n",
      "\n",
      "Please provide either the `user_id` or `agent_id` associated with the claim case so I can retrieve the necessary details."
     ]
    },
    {
     "name": "stderr",
     "output_type": "stream",
     "text": [
      "/opt/conda/lib/python3.12/site-packages/botocore/endpoint.py:169: DeprecationWarning: datetime.datetime.utcnow() is deprecated and scheduled for removal in a future version. Use timezone-aware objects to represent datetimes in UTC: datetime.datetime.now(datetime.UTC).\n",
      "  response_received_timestamp = datetime.datetime.utcnow()\n",
      "/opt/conda/lib/python3.12/site-packages/botocore/endpoint.py:152: DeprecationWarning: datetime.datetime.utcnow() is deprecated and scheduled for removal in a future version. Use timezone-aware objects to represent datetimes in UTC: datetime.datetime.now(datetime.UTC).\n",
      "  local_timestamp = datetime.datetime.utcnow()\n"
     ]
    }
   ],
   "source": [
    "response = graph(CLAIM_ID)"
   ]
  },
  {
   "cell_type": "code",
   "execution_count": 13,
   "id": "824f062e-a67b-4389-92fb-f6dda63a6787",
   "metadata": {
    "execution": {
     "iopub.execute_input": "2025-07-23T14:09:59.032963Z",
     "iopub.status.busy": "2025-07-23T14:09:59.032740Z",
     "iopub.status.idle": "2025-07-23T14:09:59.038079Z",
     "shell.execute_reply": "2025-07-23T14:09:59.037401Z",
     "shell.execute_reply.started": "2025-07-23T14:09:59.032945Z"
    }
   },
   "outputs": [
    {
     "data": {
      "text/markdown": [
       "<thinking> The `mem0_memory` tool requires either a `user_id` or `agent_id` to perform the retrieval. Since I don't have this information, I need to ask the user to provide either the `user_id` or `agent_id` to proceed with retrieving the claim case details. </thinking> \n",
       "\n",
       "Please provide either the `user_id` or `agent_id` associated with the claim case so I can retrieve the necessary details."
      ],
      "text/plain": [
       "<IPython.core.display.Markdown object>"
      ]
     },
     "metadata": {},
     "output_type": "display_data"
    }
   ],
   "source": [
    "from IPython.display import display, Markdown\n",
    "response.results[\"report\"].result.message[\"content\"][0][\"text\"]\n",
    "display(Markdown(response.results[\"report\"].result.message[\"content\"][0][\"text\"]))"
   ]
  }
 ],
 "metadata": {
  "kernelspec": {
   "display_name": "Python 3 (ipykernel)",
   "language": "python",
   "name": "python3"
  },
  "language_info": {
   "codemirror_mode": {
    "name": "ipython",
    "version": 3
   },
   "file_extension": ".py",
   "mimetype": "text/x-python",
   "name": "python",
   "nbconvert_exporter": "python",
   "pygments_lexer": "ipython3",
   "version": "3.12.9"
  }
 },
 "nbformat": 4,
 "nbformat_minor": 5
}
